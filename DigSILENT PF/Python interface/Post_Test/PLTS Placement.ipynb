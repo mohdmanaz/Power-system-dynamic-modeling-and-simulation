{
 "cells": [
  {
   "cell_type": "code",
   "execution_count": null,
   "id": "1b05e56c",
   "metadata": {},
   "outputs": [],
   "source": [
    "import sys\n",
    "import os\n",
    "sys.path.append(r\"D:\\Program FIles\\DIgSILENT\\PowerFactory 2021 SP2\\Python\\3.9\")\n",
    "import powerfactory as pf\n",
    "from PIL import Image\n",
    "import matplotlib.pyplot as plt\n",
    "import pandas as pd\n",
    "from tqdm import tqdm\n",
    "import time\n",
    "import numpy as np\n",
    "app=pf.GetApplicationExt()"
   ]
  },
  {
   "cell_type": "code",
   "execution_count": null,
   "id": "1eed5e4b",
   "metadata": {},
   "outputs": [],
   "source": [
    "app.Show()"
   ]
  },
  {
   "cell_type": "code",
   "execution_count": null,
   "id": "c211b6e9",
   "metadata": {
    "scrolled": true
   },
   "outputs": [],
   "source": [
    "# Activate project through Python, change the directory to IEEE 39 Bus\n",
    "# You can use this line or just import manually\n",
    "\n",
    "app.GetCurrentUser().GetContents(\"2. College\")[0].GetContents(\"3rd Semester\")[0].GetContents(\"Automation Training\")[0].GetContents(\"39 Bus Transient\")[0].Activate()"
   ]
  },
  {
   "cell_type": "code",
   "execution_count": null,
   "id": "8f923c72",
   "metadata": {},
   "outputs": [],
   "source": [
    "app.Hide()"
   ]
  },
  {
   "cell_type": "markdown",
   "id": "6d9a6b76",
   "metadata": {},
   "source": [
    "### PLTS placement, lowest losses PCC search"
   ]
  },
  {
   "cell_type": "code",
   "execution_count": null,
   "id": "30551912",
   "metadata": {},
   "outputs": [],
   "source": [
    "Grid = app.GetCalcRelevantObjects(\"Summary Grid.ElmNet\")[0]\n",
    "Terminals = app.GetCalcRelevantObjects(\"ElmTerm\")\n",
    "PLTS = app.GetCalcRelevantObjects(\"ElmPvsys\")[0]\n",
    "Dataframe_results = []\n",
    "[Nama_Terminal, GridLoss, Dataframe_results] = [[],[],[]]\n",
    "\n",
    "for Terminal in Terminals:\n",
    "    CubTersambung = Terminal.GetConnectedCubicles()\n",
    "    Terminal.CreateObject(\"StaCubic\")\n",
    "    SemuaCub = Terminal.GetContents(\".StaCubic\")\n",
    "    CubTakTersambung = list(set(SemuaCub) - set(CubTersambung))\n",
    "    PLTS.bus1 = CubTakTersambung[0]\n",
    "    app.GetFromStudyCase(\"ComLdf\").Execute()\n",
    "    Nama_Terminal.append(Terminal.GetAttribute(\"loc_name\"))\n",
    "    GridLoss.append(Grid.GetAttribute(\"c:LossP\"))\n",
    "    Dataframe_results.append({'Nama Bus': Terminal.GetAttribute(\"loc_name\"), 'Losses Grid': Grid.GetAttribute(\"c:LossP\")})\n",
    "#     print(f\"PLTS tersambung di terminal= {Nama_Terminal} Grid losses= {GridLoss}\")\n",
    "    CubTakTersambung[0].Delete()\n",
    "df = pd.DataFrame(Dataframe_results)\n",
    "df\n"
   ]
  }
 ],
 "metadata": {
  "kernelspec": {
   "display_name": "Python 3 (ipykernel)",
   "language": "python",
   "name": "python3"
  },
  "language_info": {
   "codemirror_mode": {
    "name": "ipython",
    "version": 3
   },
   "file_extension": ".py",
   "mimetype": "text/x-python",
   "name": "python",
   "nbconvert_exporter": "python",
   "pygments_lexer": "ipython3",
   "version": "3.9.10"
  }
 },
 "nbformat": 4,
 "nbformat_minor": 5
}
